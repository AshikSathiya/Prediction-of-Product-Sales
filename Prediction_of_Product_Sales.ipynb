{
  "nbformat": 4,
  "nbformat_minor": 0,
  "metadata": {
    "colab": {
      "provenance": [],
      "authorship_tag": "ABX9TyPRuBqTN1kWo5wCp4KDVU9v",
      "include_colab_link": true
    },
    "kernelspec": {
      "name": "python3",
      "display_name": "Python 3"
    },
    "language_info": {
      "name": "python"
    }
  },
  "cells": [
    {
      "cell_type": "markdown",
      "metadata": {
        "id": "view-in-github",
        "colab_type": "text"
      },
      "source": [
        "<a href=\"https://colab.research.google.com/github/AshikSathiya/Prediction-of-Product-Sales/blob/main/Prediction_of_Product_Sales.ipynb\" target=\"_parent\"><img src=\"https://colab.research.google.com/assets/colab-badge.svg\" alt=\"Open In Colab\"/></a>"
      ]
    },
    {
      "cell_type": "markdown",
      "source": [
        "#Prediction of Product Sales\n",
        "###Ashik Sathiya\n",
        "\n"
      ],
      "metadata": {
        "id": "XhltEzzm6hgH"
      }
    },
    {
      "cell_type": "markdown",
      "source": [
        "#Load and Inspect Data\n"
      ],
      "metadata": {
        "id": "ZbxMvLYU6841"
      }
    },
    {
      "cell_type": "code",
      "source": [],
      "metadata": {
        "id": "vL891lXvtqjr"
      },
      "execution_count": null,
      "outputs": []
    },
    {
      "cell_type": "markdown",
      "source": [
        "#Clean Data"
      ],
      "metadata": {
        "id": "qO-PQkQN683C"
      }
    },
    {
      "cell_type": "code",
      "source": [],
      "metadata": {
        "id": "VpJPth-xtrb1"
      },
      "execution_count": null,
      "outputs": []
    },
    {
      "cell_type": "markdown",
      "source": [
        "#Exploratory Data Analysis"
      ],
      "metadata": {
        "id": "oHf6vhDw681F"
      }
    },
    {
      "cell_type": "code",
      "source": [],
      "metadata": {
        "id": "H_RZr4dTtr7f"
      },
      "execution_count": null,
      "outputs": []
    },
    {
      "cell_type": "markdown",
      "source": [
        "#Exploratory Data Analysis"
      ],
      "metadata": {
        "id": "eFDBqh8H68yz"
      }
    },
    {
      "cell_type": "code",
      "source": [],
      "metadata": {
        "id": "j-ePnPGOtsd8"
      },
      "execution_count": null,
      "outputs": []
    }
  ]
}